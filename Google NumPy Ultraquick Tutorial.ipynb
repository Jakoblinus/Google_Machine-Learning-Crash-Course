{
 "cells": [
  {
   "cell_type": "code",
   "execution_count": 1,
   "id": "97d6c1d8",
   "metadata": {},
   "outputs": [],
   "source": [
    "import numpy as np"
   ]
  },
  {
   "cell_type": "markdown",
   "id": "fdf535c6",
   "metadata": {},
   "source": [
    "# Populate arrays with specific numbers"
   ]
  },
  {
   "cell_type": "code",
   "execution_count": 2,
   "id": "1ac0b865",
   "metadata": {},
   "outputs": [
    {
     "name": "stdout",
     "output_type": "stream",
     "text": [
      "[1.2 2.4 3.5 4.7 6.1 7.2 8.3 9.5]\n"
     ]
    }
   ],
   "source": [
    "one_dimensional_array = np.array([1.2, 2.4, 3.5, 4.7, 6.1, 7.2, 8.3, 9.5])\n",
    "print(one_dimensional_array)"
   ]
  },
  {
   "cell_type": "code",
   "execution_count": 5,
   "id": "0acc5ca5",
   "metadata": {},
   "outputs": [
    {
     "name": "stdout",
     "output_type": "stream",
     "text": [
      "[[ 6  5]\n",
      " [11  7]\n",
      " [ 4  8]]\n"
     ]
    }
   ],
   "source": [
    "two_dimensional_array = np.array([[6, 5], [11, 7], [4, 8]])\n",
    "print(two_dimensional_array)"
   ]
  },
  {
   "cell_type": "code",
   "execution_count": 7,
   "id": "21fd1ad2",
   "metadata": {},
   "outputs": [
    {
     "name": "stdout",
     "output_type": "stream",
     "text": [
      "<built-in function zeros>\n"
     ]
    }
   ],
   "source": [
    "zeros_array = np.zeros\n",
    "print(zeros_array)"
   ]
  },
  {
   "cell_type": "code",
   "execution_count": 8,
   "id": "2be3d4a1",
   "metadata": {},
   "outputs": [
    {
     "name": "stdout",
     "output_type": "stream",
     "text": [
      "<built-in function zeros>\n"
     ]
    }
   ],
   "source": [
    "print(np.zeros)"
   ]
  },
  {
   "cell_type": "markdown",
   "id": "7913db97",
   "metadata": {},
   "source": [
    "# Populate arrays with sequences of numbers"
   ]
  },
  {
   "cell_type": "code",
   "execution_count": 12,
   "id": "7d4aa8bc",
   "metadata": {},
   "outputs": [
    {
     "name": "stdout",
     "output_type": "stream",
     "text": [
      "[ 5  6  7  8  9 10 11]\n"
     ]
    }
   ],
   "source": [
    "sequence_of_integers = np.arange(5, 12)\n",
    "print(sequence_of_integers)"
   ]
  },
  {
   "cell_type": "markdown",
   "id": "6c119bb8",
   "metadata": {},
   "source": [
    "notice that np.arange generates a sequence that includes the lower bount 5, but not the upper bount 12."
   ]
  },
  {
   "cell_type": "markdown",
   "id": "87113d1b",
   "metadata": {},
   "source": [
    "# Populate arrays with random numbers"
   ]
  },
  {
   "cell_type": "code",
   "execution_count": 14,
   "id": "807fb38e",
   "metadata": {},
   "outputs": [
    {
     "name": "stdout",
     "output_type": "stream",
     "text": [
      "[95 63 60 66 80 81]\n"
     ]
    }
   ],
   "source": [
    "random_integers_between_50_and_100 = np.random.randint(low=50, high=101, size=(6))\n",
    "print(random_integers_between_50_and_100)"
   ]
  },
  {
   "cell_type": "markdown",
   "id": "f8f429ad",
   "metadata": {},
   "source": [
    "Note that the highest generated integer np.random.randint is one less than the high argument."
   ]
  },
  {
   "cell_type": "code",
   "execution_count": 16,
   "id": "6c6c65e4",
   "metadata": {},
   "outputs": [
    {
     "name": "stdout",
     "output_type": "stream",
     "text": [
      "[0.12250963 0.63154083 0.81263947 0.89082342 0.21228865 0.54132465]\n"
     ]
    }
   ],
   "source": [
    "random_floats_between_0_and_1 = np.random.random([6])\n",
    "print(random_floats_between_0_and_1) "
   ]
  },
  {
   "cell_type": "markdown",
   "id": "175f2bd6",
   "metadata": {},
   "source": [
    "# Mathematical Operations on NumPy Operands"
   ]
  },
  {
   "cell_type": "code",
   "execution_count": 17,
   "id": "db445343",
   "metadata": {},
   "outputs": [
    {
     "name": "stdout",
     "output_type": "stream",
     "text": [
      "[2.12250963 2.63154083 2.81263947 2.89082342 2.21228865 2.54132465]\n"
     ]
    }
   ],
   "source": [
    "random_floats_between_2_and_3 = random_floats_between_0_and_1 + 2.0\n",
    "print(random_floats_between_2_and_3)"
   ]
  },
  {
   "cell_type": "code",
   "execution_count": 18,
   "id": "4d01fe2b",
   "metadata": {},
   "outputs": [
    {
     "name": "stdout",
     "output_type": "stream",
     "text": [
      "[285 189 180 198 240 243]\n"
     ]
    }
   ],
   "source": [
    "random_integers_between_150_and_300 = random_integers_between_50_and_100 * 3\n",
    "print(random_integers_between_150_and_300)"
   ]
  },
  {
   "cell_type": "markdown",
   "id": "58be2258",
   "metadata": {},
   "source": [
    "# Task 1: Create a linear dataset"
   ]
  },
  {
   "cell_type": "markdown",
   "id": "1d1610fe",
   "metadata": {},
   "source": [
    "The goal is to create a simple dataset consisting of a single feature and a label as follows:"
   ]
  },
  {
   "cell_type": "markdown",
   "id": "c7a1b0ac",
   "metadata": {},
   "source": [
    "1. assign a sequence of integers from 6 to 20 (inclusive) to a NumPy array names feature.\n",
    "2. Assign 15 values to NumPy array named label such that: label = 3*feature + 4"
   ]
  },
  {
   "cell_type": "code",
   "execution_count": 21,
   "id": "109f3bd8",
   "metadata": {},
   "outputs": [
    {
     "name": "stdout",
     "output_type": "stream",
     "text": [
      "[ 6  7  8  9 10 11 12 13 14 15 16 17 18 19 20]\n"
     ]
    }
   ],
   "source": [
    "feature = np.arange(6,21)\n",
    "print(feature)"
   ]
  },
  {
   "cell_type": "code",
   "execution_count": 33,
   "id": "932e1ef5",
   "metadata": {},
   "outputs": [
    {
     "name": "stdout",
     "output_type": "stream",
     "text": [
      "[22 25 28 31 34 37 40 43 46 49 52 55 58 61 64]\n"
     ]
    }
   ],
   "source": [
    "label = 3 * feature + 4\n",
    "print(label)"
   ]
  },
  {
   "cell_type": "markdown",
   "id": "f9e3e0cf",
   "metadata": {},
   "source": [
    "# Task 2: Add some noise to the dataset"
   ]
  },
  {
   "cell_type": "markdown",
   "id": "379daddb",
   "metadata": {},
   "source": [
    "Random noise makes the dataset a bit more realistig. We focus on each element of the label array."
   ]
  },
  {
   "cell_type": "code",
   "execution_count": 34,
   "id": "54bcd1f6",
   "metadata": {},
   "outputs": [
    {
     "name": "stdout",
     "output_type": "stream",
     "text": [
      "[-0.72437761  1.97154796  1.1529381   0.90920599 -1.23601572  1.69527266\n",
      "  1.32591828 -0.65379864  1.59583116 -1.65328886  1.20395324 -0.99931586\n",
      "  0.63546582  1.06579443  1.5933591 ]\n",
      "[21.27562239 26.97154796 29.1529381  31.90920599 32.76398428 38.69527266\n",
      " 41.32591828 42.34620136 47.59583116 47.34671114 53.20395324 54.00068414\n",
      " 58.63546582 62.06579443 65.5933591 ]\n"
     ]
    }
   ],
   "source": [
    "noise = (np.random.random([15]) * 4) - 2\n",
    "print(noise)\n",
    "label = noise + label\n",
    "print(label)"
   ]
  }
 ],
 "metadata": {
  "kernelspec": {
   "display_name": "Python 3 (ipykernel)",
   "language": "python",
   "name": "python3"
  },
  "language_info": {
   "codemirror_mode": {
    "name": "ipython",
    "version": 3
   },
   "file_extension": ".py",
   "mimetype": "text/x-python",
   "name": "python",
   "nbconvert_exporter": "python",
   "pygments_lexer": "ipython3",
   "version": "3.9.12"
  }
 },
 "nbformat": 4,
 "nbformat_minor": 5
}
